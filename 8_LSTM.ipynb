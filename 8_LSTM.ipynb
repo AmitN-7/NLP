{
  "nbformat": 4,
  "nbformat_minor": 0,
  "metadata": {
    "colab": {
      "provenance": []
    },
    "kernelspec": {
      "name": "python3",
      "display_name": "Python 3"
    },
    "language_info": {
      "name": "python"
    },
    "accelerator": "GPU",
    "gpuClass": "standard"
  },
  "cells": [
    {
      "cell_type": "code",
      "source": [
        "import tensorflow as tf\n",
        "from tensorflow import keras\n",
        "from tensorflow.keras.datasets import imdb\n",
        "from tensorflow.keras.layers import Dense,Embedding, LSTM\n",
        "from tensorflow.keras.losses import BinaryCrossentropy\n",
        "from tensorflow.keras.optimizers import Adam  \n",
        "from tensorflow.keras import Sequential\n",
        "from tensorflow.keras.preprocessing.sequence import pad_sequences\n",
        "\n"
      ],
      "metadata": {
        "id": "jgTWzhuynx7n"
      },
      "execution_count": null,
      "outputs": []
    },
    {
      "cell_type": "code",
      "source": [
        "metrics=['accuracy']\n",
        "batch_size=128\n",
        "embedding_output_dims=15\n",
        "loss=BinaryCrossentropy()\n",
        "max_sequence_length=300\n",
        "num_distinct_words=5000\n",
        "epochs=5\n",
        "optimizer=Adam()\n",
        "validation_split=0.2\n",
        "verbosity_mode=1"
      ],
      "metadata": {
        "id": "IudlF46RX3aB"
      },
      "execution_count": null,
      "outputs": []
    },
    {
      "cell_type": "code",
      "source": [
        "(X_train,y_train),(X_test,y_test) = keras.datasets.imdb.load_data(num_words=num_distinct_words)\n",
        "print(X_train.shape)\n",
        "print(X_test.shape)"
      ],
      "metadata": {
        "colab": {
          "base_uri": "https://localhost:8080/"
        },
        "id": "uNniga81YBb8",
        "outputId": "fc535cf6-8351-4a91-f385-890fd7c1b55d"
      },
      "execution_count": null,
      "outputs": [
        {
          "output_type": "stream",
          "name": "stdout",
          "text": [
            "(25000,)\n",
            "(25000,)\n"
          ]
        }
      ]
    },
    {
      "cell_type": "code",
      "source": [
        "padded_inputs=pad_sequences(X_train, maxlen=max_sequence_length, value= 0.0)    # 0.0 because it corresponds with <PAD>\n",
        "padded_inputs_test=pad_sequences(X_test, maxlen=max_sequence_length, value= 0.0)#0 because it corresponds with <PAD>"
      ],
      "metadata": {
        "id": "7VvTRkXdYDs9"
      },
      "execution_count": null,
      "outputs": []
    },
    {
      "cell_type": "code",
      "source": [
        "model = Sequential()\n",
        "model.add(Embedding(num_distinct_words,embedding_output_dims, input_length=max_sequence_length))\n",
        "model.add(LSTM(10))\n",
        "model.add(Dense(1,activation='sigmoid'))"
      ],
      "metadata": {
        "id": "GjbHyGrRYIcX"
      },
      "execution_count": null,
      "outputs": []
    },
    {
      "cell_type": "code",
      "source": [
        "model.compile(loss=loss,optimizer=optimizer,metrics=metrics)"
      ],
      "metadata": {
        "id": "iZd-fppwYUBz"
      },
      "execution_count": null,
      "outputs": []
    },
    {
      "cell_type": "code",
      "source": [
        "model.summary()"
      ],
      "metadata": {
        "colab": {
          "base_uri": "https://localhost:8080/"
        },
        "id": "ibTx_iahYXhS",
        "outputId": "b1679dcb-3b8e-441e-cbaf-d0357ed5804d"
      },
      "execution_count": null,
      "outputs": [
        {
          "output_type": "stream",
          "name": "stdout",
          "text": [
            "Model: \"sequential\"\n",
            "_________________________________________________________________\n",
            " Layer (type)                Output Shape              Param #   \n",
            "=================================================================\n",
            " embedding (Embedding)       (None, 300, 15)           75000     \n",
            "                                                                 \n",
            " lstm (LSTM)                 (None, 10)                1040      \n",
            "                                                                 \n",
            " dense (Dense)               (None, 1)                 11        \n",
            "                                                                 \n",
            "=================================================================\n",
            "Total params: 76,051\n",
            "Trainable params: 76,051\n",
            "Non-trainable params: 0\n",
            "_________________________________________________________________\n"
          ]
        }
      ]
    },
    {
      "cell_type": "code",
      "source": [
        "history=model.fit(padded_inputs,y_train,epochs=epochs,batch_size=batch_size,verbose=verbosity_mode,validation_split=validation_split )"
      ],
      "metadata": {
        "colab": {
          "base_uri": "https://localhost:8080/"
        },
        "id": "OXOaTgJUYaPq",
        "outputId": "062e0996-dc1b-410a-ae9f-e35d8f9b2ff9"
      },
      "execution_count": null,
      "outputs": [
        {
          "output_type": "stream",
          "name": "stdout",
          "text": [
            "Epoch 1/5\n",
            "157/157 [==============================] - 2s 16ms/step - loss: 0.1030 - accuracy: 0.9676 - val_loss: 0.4714 - val_accuracy: 0.8540\n",
            "Epoch 2/5\n",
            "157/157 [==============================] - 2s 15ms/step - loss: 0.0881 - accuracy: 0.9732 - val_loss: 0.4713 - val_accuracy: 0.8542\n",
            "Epoch 3/5\n",
            "157/157 [==============================] - 2s 15ms/step - loss: 0.0735 - accuracy: 0.9798 - val_loss: 0.5190 - val_accuracy: 0.8530\n",
            "Epoch 4/5\n",
            "157/157 [==============================] - 2s 16ms/step - loss: 0.0703 - accuracy: 0.9811 - val_loss: 0.5263 - val_accuracy: 0.8544\n",
            "Epoch 5/5\n",
            "157/157 [==============================] - 2s 15ms/step - loss: 0.0872 - accuracy: 0.9726 - val_loss: 0.4851 - val_accuracy: 0.8534\n"
          ]
        }
      ]
    },
    {
      "cell_type": "code",
      "source": [
        "model.evaluate(padded_inputs_test,y_test,batch_size=batch_size)"
      ],
      "metadata": {
        "colab": {
          "base_uri": "https://localhost:8080/"
        },
        "id": "YWVelygUZ-Nr",
        "outputId": "d52b70ce-0312-4d42-de8d-779405422924"
      },
      "execution_count": null,
      "outputs": [
        {
          "output_type": "stream",
          "name": "stdout",
          "text": [
            "196/196 [==============================] - 1s 7ms/step - loss: 0.4872 - accuracy: 0.8549\n"
          ]
        },
        {
          "output_type": "execute_result",
          "data": {
            "text/plain": [
              "[0.4871746599674225, 0.8549200296401978]"
            ]
          },
          "metadata": {},
          "execution_count": 24
        }
      ]
    },
    {
      "cell_type": "code",
      "source": [
        "acc= model.evaluate(padded_inputs_test,y_test,batch_size=batch_size, verbose=0)"
      ],
      "metadata": {
        "id": "-mJUK0fwYdFR"
      },
      "execution_count": null,
      "outputs": []
    },
    {
      "cell_type": "code",
      "source": [
        "print(\"Loss:\",acc[0])"
      ],
      "metadata": {
        "colab": {
          "base_uri": "https://localhost:8080/"
        },
        "id": "CJDxnvM4aOG6",
        "outputId": "df348f49-fe7f-4efd-bf82-f04ebb383a13"
      },
      "execution_count": null,
      "outputs": [
        {
          "output_type": "stream",
          "name": "stdout",
          "text": [
            "Loss: 0.4871746599674225\n"
          ]
        }
      ]
    },
    {
      "cell_type": "markdown",
      "source": [
        "Now print the Test results i.e. the loss and accuracy."
      ],
      "metadata": {
        "id": "0Sy85lkY8MaM"
      }
    },
    {
      "cell_type": "code",
      "source": [
        "print(\"Test Accuracy: %.1f%%\"  % (acc[1]*100))"
      ],
      "metadata": {
        "colab": {
          "base_uri": "https://localhost:8080/"
        },
        "id": "GdgaRhj-ZK0R",
        "outputId": "d8af42e7-69a5-450f-a549-ce243d560b26"
      },
      "execution_count": null,
      "outputs": [
        {
          "output_type": "stream",
          "name": "stdout",
          "text": [
            "Test Accuracy: 85.5%\n"
          ]
        }
      ]
    }
  ]
}