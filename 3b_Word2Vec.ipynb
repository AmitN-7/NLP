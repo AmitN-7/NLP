{
  "nbformat": 4,
  "nbformat_minor": 0,
  "metadata": {
    "colab": {
      "provenance": []
    },
    "kernelspec": {
      "name": "python3",
      "display_name": "Python 3"
    },
    "language_info": {
      "name": "python"
    }
  },
  "cells": [
    {
      "cell_type": "code",
      "execution_count": 7,
      "metadata": {
        "colab": {
          "base_uri": "https://localhost:8080/"
        },
        "id": "-Pht-28lTBkl",
        "outputId": "462ef340-52f8-4597-e221-01c9ba9dd2d3"
      },
      "outputs": [
        {
          "output_type": "stream",
          "name": "stderr",
          "text": [
            "[nltk_data] Downloading package punkt to /root/nltk_data...\n",
            "[nltk_data]   Package punkt is already up-to-date!\n",
            "[nltk_data] Downloading package stopwords to /root/nltk_data...\n",
            "[nltk_data]   Unzipping corpora/stopwords.zip.\n"
          ]
        }
      ],
      "source": [
        "import nltk\n",
        "nltk.download('punkt')\n",
        "nltk.download('stopwords')\n",
        "from gensim.models import Word2Vec\n",
        "from nltk.corpus import stopwords\n",
        "\n",
        "import re\n",
        "\n",
        "paragraph = \"\"\"I have three visions for India. In 3000 years of our history, people from all over \n",
        "               the world have come and invaded us, captured our lands, conquered our minds. \n",
        "               From Alexander onwards, the Greeks, the Turks, the Moguls, the Portuguese, the British,\n",
        "               the French, the Dutch, all of them came and looted us, took over what was ours. \n",
        "               Yet we have not done this to any other nation. We have not conquered anyone. \n",
        "               We have not grabbed their land, their culture, \n",
        "               their history and tried to enforce our way of life on them. \n",
        "               Why? Because we respect the freedom of others.That is why my \n",
        "               first vision is that of freedom. I believe that India got its first vision of \n",
        "               this in 1857, when we started the War of Independence. It is this freedom that\n",
        "               we must protect and nurture and build on. If we are not free, no one will respect us.\n",
        "               My second vision for India’s development. For fifty years we have been a developing nation.\n",
        "               It is time we see ourselves as a developed nation. We are among the top 5 nations of the world\n",
        "               in terms of GDP. We have a 10 percent growth rate in most areas. Our poverty levels are falling.\n",
        "               Our achievements are being globally recognised today. Yet we lack the self-confidence to\n",
        "               see ourselves as a developed nation, self-reliant and self-assured. Isn’t this incorrect?\n",
        "               I have a third vision. India must stand up to the world. Because I believe that unless India \n",
        "               stands up to the world, no one will respect us. Only strength respects strength. We must be \n",
        "               strong not only as a military power but also as an economic power. Both must go hand-in-hand. \n",
        "               My good fortune was to have worked with three great minds. Dr. Vikram Sarabhai of the Dept. of \n",
        "               space, Professor Satish Dhawan, who succeeded him and Dr. Brahm Prakash, father of nuclear material.\n",
        "               I was lucky to have worked with all three of them closely and consider this the great opportunity of my life. \n",
        "               I see four milestones in my career\"\"\"\n",
        "\n",
        "\n",
        "\n"
      ]
    },
    {
      "cell_type": "code",
      "source": [
        "# Preprocessing the data\n",
        "text = re.sub(r'\\[[0-9]*\\]',' ',paragraph)\n",
        "text = re.sub(r'\\s+',' ',text)\n",
        "text = text.lower()\n",
        "text = re.sub(r'\\d',' ',text)\n",
        "text = re.sub(r'\\s+',' ',text)\n",
        "text\n",
        "\n"
      ],
      "metadata": {
        "colab": {
          "base_uri": "https://localhost:8080/",
          "height": 145
        },
        "id": "aBlseNulTZyE",
        "outputId": "63772fb9-1678-41b8-f1cf-aa1d2e844514"
      },
      "execution_count": 13,
      "outputs": [
        {
          "output_type": "execute_result",
          "data": {
            "text/plain": [
              "'i have three visions for india. in years of our history, people from all over the world have come and invaded us, captured our lands, conquered our minds. from alexander onwards, the greeks, the turks, the moguls, the portuguese, the british, the french, the dutch, all of them came and looted us, took over what was ours. yet we have not done this to any other nation. we have not conquered anyone. we have not grabbed their land, their culture, their history and tried to enforce our way of life on them. why? because we respect the freedom of others.that is why my first vision is that of freedom. i believe that india got its first vision of this in , when we started the war of independence. it is this freedom that we must protect and nurture and build on. if we are not free, no one will respect us. my second vision for india’s development. for fifty years we have been a developing nation. it is time we see ourselves as a developed nation. we are among the top nations of the world in terms of gdp. we have a percent growth rate in most areas. our poverty levels are falling. our achievements are being globally recognised today. yet we lack the self-confidence to see ourselves as a developed nation, self-reliant and self-assured. isn’t this incorrect? i have a third vision. india must stand up to the world. because i believe that unless india stands up to the world, no one will respect us. only strength respects strength. we must be strong not only as a military power but also as an economic power. both must go hand-in-hand. my good fortune was to have worked with three great minds. dr. vikram sarabhai of the dept. of space, professor satish dhawan, who succeeded him and dr. brahm prakash, father of nuclear material. i was lucky to have worked with all three of them closely and consider this the great opportunity of my life. i see four milestones in my career'"
            ],
            "application/vnd.google.colaboratory.intrinsic+json": {
              "type": "string"
            }
          },
          "metadata": {},
          "execution_count": 13
        }
      ]
    },
    {
      "cell_type": "code",
      "source": [
        "# Preparing the dataset\n",
        "sentences = nltk.sent_tokenize(text)\n",
        "\n",
        "sentences = [nltk.word_tokenize(sentence) for sentence in sentences]\n",
        "\n",
        "for i in range(len(sentences)):\n",
        "    sentences[i] = [word for word in sentences[i] if word not in stopwords.words('english')]\n",
        "\n",
        "\n",
        "sentences\n",
        "    \n",
        "    \n"
      ],
      "metadata": {
        "colab": {
          "base_uri": "https://localhost:8080/"
        },
        "id": "WhwdzIBYTcfe",
        "outputId": "e89d17ac-4073-4aaa-8570-de0fb2642e9b"
      },
      "execution_count": 14,
      "outputs": [
        {
          "output_type": "execute_result",
          "data": {
            "text/plain": [
              "[['three', 'visions', 'india', '.'],\n",
              " ['years',\n",
              "  'history',\n",
              "  ',',\n",
              "  'people',\n",
              "  'world',\n",
              "  'come',\n",
              "  'invaded',\n",
              "  'us',\n",
              "  ',',\n",
              "  'captured',\n",
              "  'lands',\n",
              "  ',',\n",
              "  'conquered',\n",
              "  'minds',\n",
              "  '.'],\n",
              " ['alexander',\n",
              "  'onwards',\n",
              "  ',',\n",
              "  'greeks',\n",
              "  ',',\n",
              "  'turks',\n",
              "  ',',\n",
              "  'moguls',\n",
              "  ',',\n",
              "  'portuguese',\n",
              "  ',',\n",
              "  'british',\n",
              "  ',',\n",
              "  'french',\n",
              "  ',',\n",
              "  'dutch',\n",
              "  ',',\n",
              "  'came',\n",
              "  'looted',\n",
              "  'us',\n",
              "  ',',\n",
              "  'took',\n",
              "  '.'],\n",
              " ['yet', 'done', 'nation', '.'],\n",
              " ['conquered', 'anyone', '.'],\n",
              " ['grabbed',\n",
              "  'land',\n",
              "  ',',\n",
              "  'culture',\n",
              "  ',',\n",
              "  'history',\n",
              "  'tried',\n",
              "  'enforce',\n",
              "  'way',\n",
              "  'life',\n",
              "  '.'],\n",
              " ['?'],\n",
              " ['respect', 'freedom', 'others.that', 'first', 'vision', 'freedom', '.'],\n",
              " ['believe',\n",
              "  'india',\n",
              "  'got',\n",
              "  'first',\n",
              "  'vision',\n",
              "  ',',\n",
              "  'started',\n",
              "  'war',\n",
              "  'independence',\n",
              "  '.'],\n",
              " ['freedom', 'must', 'protect', 'nurture', 'build', '.'],\n",
              " ['free', ',', 'one', 'respect', 'us', '.'],\n",
              " ['second', 'vision', 'india', '’', 'development', '.'],\n",
              " ['fifty', 'years', 'developing', 'nation', '.'],\n",
              " ['time', 'see', 'developed', 'nation', '.'],\n",
              " ['among', 'top', 'nations', 'world', 'terms', 'gdp', '.'],\n",
              " ['percent', 'growth', 'rate', 'areas', '.'],\n",
              " ['poverty', 'levels', 'falling', '.'],\n",
              " ['achievements', 'globally', 'recognised', 'today', '.'],\n",
              " ['yet',\n",
              "  'lack',\n",
              "  'self-confidence',\n",
              "  'see',\n",
              "  'developed',\n",
              "  'nation',\n",
              "  ',',\n",
              "  'self-reliant',\n",
              "  'self-assured',\n",
              "  '.'],\n",
              " ['’', 'incorrect', '?'],\n",
              " ['third', 'vision', '.'],\n",
              " ['india', 'must', 'stand', 'world', '.'],\n",
              " ['believe',\n",
              "  'unless',\n",
              "  'india',\n",
              "  'stands',\n",
              "  'world',\n",
              "  ',',\n",
              "  'one',\n",
              "  'respect',\n",
              "  'us',\n",
              "  '.'],\n",
              " ['strength', 'respects', 'strength', '.'],\n",
              " ['must', 'strong', 'military', 'power', 'also', 'economic', 'power', '.'],\n",
              " ['must', 'go', 'hand-in-hand', '.'],\n",
              " ['good', 'fortune', 'worked', 'three', 'great', 'minds', '.'],\n",
              " ['dr.', 'vikram', 'sarabhai', 'dept', '.'],\n",
              " ['space',\n",
              "  ',',\n",
              "  'professor',\n",
              "  'satish',\n",
              "  'dhawan',\n",
              "  ',',\n",
              "  'succeeded',\n",
              "  'dr.',\n",
              "  'brahm',\n",
              "  'prakash',\n",
              "  ',',\n",
              "  'father',\n",
              "  'nuclear',\n",
              "  'material',\n",
              "  '.'],\n",
              " ['lucky',\n",
              "  'worked',\n",
              "  'three',\n",
              "  'closely',\n",
              "  'consider',\n",
              "  'great',\n",
              "  'opportunity',\n",
              "  'life',\n",
              "  '.'],\n",
              " ['see', 'four', 'milestones', 'career']]"
            ]
          },
          "metadata": {},
          "execution_count": 14
        }
      ]
    },
    {
      "cell_type": "code",
      "source": [
        "# Training the Word2Vec model\n",
        "model = Word2Vec(sentences, min_count=1)\n",
        "\n",
        "\n",
        "words = model.wv.vocab\n",
        "words\n",
        "\n"
      ],
      "metadata": {
        "colab": {
          "base_uri": "https://localhost:8080/"
        },
        "id": "8CO8x0ROTfCv",
        "outputId": "f1774794-c947-4dd8-cb49-a3169949a159"
      },
      "execution_count": 15,
      "outputs": [
        {
          "output_type": "stream",
          "name": "stderr",
          "text": [
            "WARNING:gensim.models.base_any2vec:under 10 jobs per worker: consider setting a smaller `batch_words' for smoother alpha decay\n"
          ]
        },
        {
          "output_type": "execute_result",
          "data": {
            "text/plain": [
              "{'three': <gensim.models.keyedvectors.Vocab at 0x7f8c842c2f70>,\n",
              " 'visions': <gensim.models.keyedvectors.Vocab at 0x7f8c842c2be0>,\n",
              " 'india': <gensim.models.keyedvectors.Vocab at 0x7f8c842c23a0>,\n",
              " '.': <gensim.models.keyedvectors.Vocab at 0x7f8c842c28e0>,\n",
              " 'years': <gensim.models.keyedvectors.Vocab at 0x7f8c842c2850>,\n",
              " 'history': <gensim.models.keyedvectors.Vocab at 0x7f8c842c2e20>,\n",
              " ',': <gensim.models.keyedvectors.Vocab at 0x7f8c842c2d60>,\n",
              " 'people': <gensim.models.keyedvectors.Vocab at 0x7f8c842c2a00>,\n",
              " 'world': <gensim.models.keyedvectors.Vocab at 0x7f8c842c2f10>,\n",
              " 'come': <gensim.models.keyedvectors.Vocab at 0x7f8c842c2bb0>,\n",
              " 'invaded': <gensim.models.keyedvectors.Vocab at 0x7f8c84318250>,\n",
              " 'us': <gensim.models.keyedvectors.Vocab at 0x7f8c84318490>,\n",
              " 'captured': <gensim.models.keyedvectors.Vocab at 0x7f8c84318880>,\n",
              " 'lands': <gensim.models.keyedvectors.Vocab at 0x7f8c84318b20>,\n",
              " 'conquered': <gensim.models.keyedvectors.Vocab at 0x7f8c84318e20>,\n",
              " 'minds': <gensim.models.keyedvectors.Vocab at 0x7f8c84318190>,\n",
              " 'alexander': <gensim.models.keyedvectors.Vocab at 0x7f8c84318910>,\n",
              " 'onwards': <gensim.models.keyedvectors.Vocab at 0x7f8c843188b0>,\n",
              " 'greeks': <gensim.models.keyedvectors.Vocab at 0x7f8c84318070>,\n",
              " 'turks': <gensim.models.keyedvectors.Vocab at 0x7f8c843180a0>,\n",
              " 'moguls': <gensim.models.keyedvectors.Vocab at 0x7f8c84318bb0>,\n",
              " 'portuguese': <gensim.models.keyedvectors.Vocab at 0x7f8c843184c0>,\n",
              " 'british': <gensim.models.keyedvectors.Vocab at 0x7f8c84318af0>,\n",
              " 'french': <gensim.models.keyedvectors.Vocab at 0x7f8c84318f10>,\n",
              " 'dutch': <gensim.models.keyedvectors.Vocab at 0x7f8c84318160>,\n",
              " 'came': <gensim.models.keyedvectors.Vocab at 0x7f8c843186d0>,\n",
              " 'looted': <gensim.models.keyedvectors.Vocab at 0x7f8c84318df0>,\n",
              " 'took': <gensim.models.keyedvectors.Vocab at 0x7f8c84318550>,\n",
              " 'yet': <gensim.models.keyedvectors.Vocab at 0x7f8c84318a00>,\n",
              " 'done': <gensim.models.keyedvectors.Vocab at 0x7f8c84318be0>,\n",
              " 'nation': <gensim.models.keyedvectors.Vocab at 0x7f8c843189d0>,\n",
              " 'anyone': <gensim.models.keyedvectors.Vocab at 0x7f8c843187c0>,\n",
              " 'grabbed': <gensim.models.keyedvectors.Vocab at 0x7f8c84318c70>,\n",
              " 'land': <gensim.models.keyedvectors.Vocab at 0x7f8c84318280>,\n",
              " 'culture': <gensim.models.keyedvectors.Vocab at 0x7f8c84318ac0>,\n",
              " 'tried': <gensim.models.keyedvectors.Vocab at 0x7f8c84318e50>,\n",
              " 'enforce': <gensim.models.keyedvectors.Vocab at 0x7f8c84318d00>,\n",
              " 'way': <gensim.models.keyedvectors.Vocab at 0x7f8c84318a60>,\n",
              " 'life': <gensim.models.keyedvectors.Vocab at 0x7f8c84318fd0>,\n",
              " '?': <gensim.models.keyedvectors.Vocab at 0x7f8c84318700>,\n",
              " 'respect': <gensim.models.keyedvectors.Vocab at 0x7f8c84318b80>,\n",
              " 'freedom': <gensim.models.keyedvectors.Vocab at 0x7f8c84318ca0>,\n",
              " 'others.that': <gensim.models.keyedvectors.Vocab at 0x7f8c84318220>,\n",
              " 'first': <gensim.models.keyedvectors.Vocab at 0x7f8c84318760>,\n",
              " 'vision': <gensim.models.keyedvectors.Vocab at 0x7f8c84318820>,\n",
              " 'believe': <gensim.models.keyedvectors.Vocab at 0x7f8c84318940>,\n",
              " 'got': <gensim.models.keyedvectors.Vocab at 0x7f8c843181f0>,\n",
              " 'started': <gensim.models.keyedvectors.Vocab at 0x7f8c84318460>,\n",
              " 'war': <gensim.models.keyedvectors.Vocab at 0x7f8c84318370>,\n",
              " 'independence': <gensim.models.keyedvectors.Vocab at 0x7f8c84318340>,\n",
              " 'must': <gensim.models.keyedvectors.Vocab at 0x7f8c86d8cf70>,\n",
              " 'protect': <gensim.models.keyedvectors.Vocab at 0x7f8c86d8ccd0>,\n",
              " 'nurture': <gensim.models.keyedvectors.Vocab at 0x7f8c86d8cc40>,\n",
              " 'build': <gensim.models.keyedvectors.Vocab at 0x7f8c86d8cc70>,\n",
              " 'free': <gensim.models.keyedvectors.Vocab at 0x7f8c86d8cee0>,\n",
              " 'one': <gensim.models.keyedvectors.Vocab at 0x7f8c86d8cdc0>,\n",
              " 'second': <gensim.models.keyedvectors.Vocab at 0x7f8c86d8ce80>,\n",
              " '’': <gensim.models.keyedvectors.Vocab at 0x7f8c86d8ce20>,\n",
              " 'development': <gensim.models.keyedvectors.Vocab at 0x7f8c86d8cd90>,\n",
              " 'fifty': <gensim.models.keyedvectors.Vocab at 0x7f8c86d8cf40>,\n",
              " 'developing': <gensim.models.keyedvectors.Vocab at 0x7f8c870c0e80>,\n",
              " 'time': <gensim.models.keyedvectors.Vocab at 0x7f8c870c0a30>,\n",
              " 'see': <gensim.models.keyedvectors.Vocab at 0x7f8c870c0790>,\n",
              " 'developed': <gensim.models.keyedvectors.Vocab at 0x7f8c870c06d0>,\n",
              " 'among': <gensim.models.keyedvectors.Vocab at 0x7f8c870c05b0>,\n",
              " 'top': <gensim.models.keyedvectors.Vocab at 0x7f8c870c0d00>,\n",
              " 'nations': <gensim.models.keyedvectors.Vocab at 0x7f8c870c0d90>,\n",
              " 'terms': <gensim.models.keyedvectors.Vocab at 0x7f8c870c0970>,\n",
              " 'gdp': <gensim.models.keyedvectors.Vocab at 0x7f8c870c0760>,\n",
              " 'percent': <gensim.models.keyedvectors.Vocab at 0x7f8c870c0940>,\n",
              " 'growth': <gensim.models.keyedvectors.Vocab at 0x7f8c84274070>,\n",
              " 'rate': <gensim.models.keyedvectors.Vocab at 0x7f8c842740d0>,\n",
              " 'areas': <gensim.models.keyedvectors.Vocab at 0x7f8c84274130>,\n",
              " 'poverty': <gensim.models.keyedvectors.Vocab at 0x7f8c84274190>,\n",
              " 'levels': <gensim.models.keyedvectors.Vocab at 0x7f8c842741f0>,\n",
              " 'falling': <gensim.models.keyedvectors.Vocab at 0x7f8c84274250>,\n",
              " 'achievements': <gensim.models.keyedvectors.Vocab at 0x7f8c842742b0>,\n",
              " 'globally': <gensim.models.keyedvectors.Vocab at 0x7f8c84274310>,\n",
              " 'recognised': <gensim.models.keyedvectors.Vocab at 0x7f8c84274370>,\n",
              " 'today': <gensim.models.keyedvectors.Vocab at 0x7f8c842743d0>,\n",
              " 'lack': <gensim.models.keyedvectors.Vocab at 0x7f8c84274430>,\n",
              " 'self-confidence': <gensim.models.keyedvectors.Vocab at 0x7f8c84274490>,\n",
              " 'self-reliant': <gensim.models.keyedvectors.Vocab at 0x7f8c842744f0>,\n",
              " 'self-assured': <gensim.models.keyedvectors.Vocab at 0x7f8c84274550>,\n",
              " 'incorrect': <gensim.models.keyedvectors.Vocab at 0x7f8c842745b0>,\n",
              " 'third': <gensim.models.keyedvectors.Vocab at 0x7f8c84274610>,\n",
              " 'stand': <gensim.models.keyedvectors.Vocab at 0x7f8c84274670>,\n",
              " 'unless': <gensim.models.keyedvectors.Vocab at 0x7f8c842746d0>,\n",
              " 'stands': <gensim.models.keyedvectors.Vocab at 0x7f8c84274730>,\n",
              " 'strength': <gensim.models.keyedvectors.Vocab at 0x7f8c84274790>,\n",
              " 'respects': <gensim.models.keyedvectors.Vocab at 0x7f8c842747f0>,\n",
              " 'strong': <gensim.models.keyedvectors.Vocab at 0x7f8c84274850>,\n",
              " 'military': <gensim.models.keyedvectors.Vocab at 0x7f8c842748b0>,\n",
              " 'power': <gensim.models.keyedvectors.Vocab at 0x7f8c84274910>,\n",
              " 'also': <gensim.models.keyedvectors.Vocab at 0x7f8c84274970>,\n",
              " 'economic': <gensim.models.keyedvectors.Vocab at 0x7f8c842749d0>,\n",
              " 'go': <gensim.models.keyedvectors.Vocab at 0x7f8c84274a30>,\n",
              " 'hand-in-hand': <gensim.models.keyedvectors.Vocab at 0x7f8c84274a90>,\n",
              " 'good': <gensim.models.keyedvectors.Vocab at 0x7f8c84274af0>,\n",
              " 'fortune': <gensim.models.keyedvectors.Vocab at 0x7f8c84274b50>,\n",
              " 'worked': <gensim.models.keyedvectors.Vocab at 0x7f8c84274bb0>,\n",
              " 'great': <gensim.models.keyedvectors.Vocab at 0x7f8c84274c10>,\n",
              " 'dr.': <gensim.models.keyedvectors.Vocab at 0x7f8c84274c70>,\n",
              " 'vikram': <gensim.models.keyedvectors.Vocab at 0x7f8c84274cd0>,\n",
              " 'sarabhai': <gensim.models.keyedvectors.Vocab at 0x7f8c84274d30>,\n",
              " 'dept': <gensim.models.keyedvectors.Vocab at 0x7f8c84274d90>,\n",
              " 'space': <gensim.models.keyedvectors.Vocab at 0x7f8c84274df0>,\n",
              " 'professor': <gensim.models.keyedvectors.Vocab at 0x7f8c84274e50>,\n",
              " 'satish': <gensim.models.keyedvectors.Vocab at 0x7f8c84274eb0>,\n",
              " 'dhawan': <gensim.models.keyedvectors.Vocab at 0x7f8c84274f10>,\n",
              " 'succeeded': <gensim.models.keyedvectors.Vocab at 0x7f8c84274f70>,\n",
              " 'brahm': <gensim.models.keyedvectors.Vocab at 0x7f8c84274fd0>,\n",
              " 'prakash': <gensim.models.keyedvectors.Vocab at 0x7f8c8426c070>,\n",
              " 'father': <gensim.models.keyedvectors.Vocab at 0x7f8c8426c0d0>,\n",
              " 'nuclear': <gensim.models.keyedvectors.Vocab at 0x7f8c8426c130>,\n",
              " 'material': <gensim.models.keyedvectors.Vocab at 0x7f8c8426c190>,\n",
              " 'lucky': <gensim.models.keyedvectors.Vocab at 0x7f8c8426c1f0>,\n",
              " 'closely': <gensim.models.keyedvectors.Vocab at 0x7f8c8426c250>,\n",
              " 'consider': <gensim.models.keyedvectors.Vocab at 0x7f8c8426c2b0>,\n",
              " 'opportunity': <gensim.models.keyedvectors.Vocab at 0x7f8c8426c310>,\n",
              " 'four': <gensim.models.keyedvectors.Vocab at 0x7f8c8426c370>,\n",
              " 'milestones': <gensim.models.keyedvectors.Vocab at 0x7f8c8426c3d0>,\n",
              " 'career': <gensim.models.keyedvectors.Vocab at 0x7f8c8426c430>}"
            ]
          },
          "metadata": {},
          "execution_count": 15
        }
      ]
    },
    {
      "cell_type": "code",
      "source": [
        "# Finding Word Vectors\n",
        "vector = model.wv['war']\n",
        "vector\n"
      ],
      "metadata": {
        "colab": {
          "base_uri": "https://localhost:8080/"
        },
        "id": "C-1muO9DThMR",
        "outputId": "4224139f-5db6-4a24-fe5f-a1dec167648e"
      },
      "execution_count": 16,
      "outputs": [
        {
          "output_type": "execute_result",
          "data": {
            "text/plain": [
              "array([ 4.1162409e-03,  2.1539233e-03, -3.8574527e-03,  6.0213113e-04,\n",
              "        4.3674638e-03, -2.2515049e-03,  9.6978917e-04, -1.3221753e-03,\n",
              "        1.0793890e-03,  3.0350967e-03,  9.0781774e-04,  6.4612890e-04,\n",
              "        5.1130867e-04, -2.9604111e-03,  4.2291339e-03, -3.2496052e-03,\n",
              "       -3.1077379e-05, -1.7059152e-04, -1.3815940e-03, -3.1197655e-03,\n",
              "        1.1162638e-03, -4.0162941e-03,  3.6539079e-03,  4.7549438e-03,\n",
              "        4.3112640e-03,  1.2818109e-03, -3.5571060e-03,  3.8251681e-03,\n",
              "        7.9359132e-04, -1.1337631e-03,  4.8879213e-03,  3.8357521e-03,\n",
              "        1.1288412e-03,  7.1802025e-04, -3.0823655e-03,  4.3272441e-03,\n",
              "       -3.7288843e-03,  3.7755824e-03, -7.1931031e-04,  2.4461441e-03,\n",
              "        4.1637253e-03, -4.7413690e-04,  5.3426501e-04, -1.2599952e-04,\n",
              "        2.6775259e-03,  1.1137793e-03,  1.6945651e-03, -1.4869128e-04,\n",
              "        1.1726526e-03, -2.2078404e-04,  1.0943365e-03, -8.5188332e-04,\n",
              "       -3.8657205e-03,  4.4577499e-03,  4.1748323e-03, -2.0162596e-03,\n",
              "       -3.9601596e-03, -3.6681287e-03, -1.2622151e-03, -3.5131120e-03,\n",
              "        4.5975513e-04,  1.1557559e-03, -1.1422823e-03, -1.9734306e-03,\n",
              "        2.0236333e-03,  5.9820944e-04, -4.1029751e-03,  3.7473333e-03,\n",
              "       -2.4454775e-03,  5.9646158e-04, -4.3816490e-05, -1.7849465e-03,\n",
              "       -4.5042429e-03,  6.3293858e-04,  1.1499190e-03,  8.8382419e-04,\n",
              "        2.7019996e-04,  2.3643028e-03,  3.7945909e-03, -2.8928604e-03,\n",
              "        3.8064192e-03,  4.7159926e-03,  3.2144680e-03, -4.5718011e-03,\n",
              "        2.7715769e-03, -1.8614169e-03,  1.6355991e-03, -4.1002994e-03,\n",
              "        3.1992232e-03,  2.4583696e-03,  2.2864908e-03, -1.8402518e-04,\n",
              "       -2.8621920e-03,  3.6325112e-03,  2.2452613e-03,  4.2883796e-03,\n",
              "        3.5698316e-03,  1.4087918e-03,  1.9681035e-03,  1.6079188e-04],\n",
              "      dtype=float32)"
            ]
          },
          "metadata": {},
          "execution_count": 16
        }
      ]
    },
    {
      "cell_type": "code",
      "source": [
        "# Most similar words\n",
        "similar = model.wv.most_similar('vikram')\n",
        "similar"
      ],
      "metadata": {
        "colab": {
          "base_uri": "https://localhost:8080/"
        },
        "id": "NJUhxXQ3Ti4G",
        "outputId": "1362daac-a6fc-4660-956c-f28ada378a1d"
      },
      "execution_count": 18,
      "outputs": [
        {
          "output_type": "execute_result",
          "data": {
            "text/plain": [
              "[('career', 0.25812971591949463),\n",
              " ('professor', 0.25428277254104614),\n",
              " ('protect', 0.20032700896263123),\n",
              " ('nuclear', 0.18758022785186768),\n",
              " ('free', 0.16779834032058716),\n",
              " ('self-assured', 0.15935668349266052),\n",
              " ('strong', 0.15616382658481598),\n",
              " ('levels', 0.15476438403129578),\n",
              " ('took', 0.14696887135505676),\n",
              " ('consider', 0.14461711049079895)]"
            ]
          },
          "metadata": {},
          "execution_count": 18
        }
      ]
    }
  ]
}