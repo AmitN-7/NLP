{
  "nbformat": 4,
  "nbformat_minor": 0,
  "metadata": {
    "colab": {
      "provenance": []
    },
    "kernelspec": {
      "name": "python3",
      "display_name": "Python 3"
    },
    "language_info": {
      "name": "python"
    }
  },
  "cells": [
    {
      "cell_type": "code",
      "execution_count": 6,
      "metadata": {
        "colab": {
          "base_uri": "https://localhost:8080/"
        },
        "id": "VfCoaMin82dy",
        "outputId": "0c5f07e8-5127-4053-b077-ceb0c0f711d8"
      },
      "outputs": [
        {
          "output_type": "stream",
          "name": "stderr",
          "text": [
            "[nltk_data] Downloading package punkt to /root/nltk_data...\n",
            "[nltk_data]   Unzipping tokenizers/punkt.zip.\n"
          ]
        }
      ],
      "source": [
        "import nltk\n",
        "from nltk.util import ngrams\n",
        "nltk.download('punkt')\n",
        "text='Google LLC is an American multinational technology company focusing on search engine technology, online advertising, cloud computing, computer software, quantum computing, e-commerce, artificial intelligence, and consumer electronics.'\n",
        "\n"
      ]
    },
    {
      "cell_type": "code",
      "source": [
        "words=ngrams(sequence=nltk.word_tokenize(text), n=1)\n",
        "for grams in words:\n",
        "  print(grams)"
      ],
      "metadata": {
        "colab": {
          "base_uri": "https://localhost:8080/"
        },
        "id": "4RiGwFTJ8-D2",
        "outputId": "537ad6b4-e5b7-44a4-abe6-f0055215caae"
      },
      "execution_count": 7,
      "outputs": [
        {
          "output_type": "stream",
          "name": "stdout",
          "text": [
            "('Google',)\n",
            "('LLC',)\n",
            "('is',)\n",
            "('an',)\n",
            "('American',)\n",
            "('multinational',)\n",
            "('technology',)\n",
            "('company',)\n",
            "('focusing',)\n",
            "('on',)\n",
            "('search',)\n",
            "('engine',)\n",
            "('technology',)\n",
            "(',',)\n",
            "('online',)\n",
            "('advertising',)\n",
            "(',',)\n",
            "('cloud',)\n",
            "('computing',)\n",
            "(',',)\n",
            "('computer',)\n",
            "('software',)\n",
            "(',',)\n",
            "('quantum',)\n",
            "('computing',)\n",
            "(',',)\n",
            "('e-commerce',)\n",
            "(',',)\n",
            "('artificial',)\n",
            "('intelligence',)\n",
            "(',',)\n",
            "('and',)\n",
            "('consumer',)\n",
            "('electronics',)\n",
            "('.',)\n"
          ]
        }
      ]
    },
    {
      "cell_type": "code",
      "source": [
        "words=ngrams(sequence=nltk.word_tokenize(text), n=3)\n",
        "for grams in words:\n",
        "  print(grams)"
      ],
      "metadata": {
        "colab": {
          "base_uri": "https://localhost:8080/"
        },
        "id": "E7CTTfDL8-Gq",
        "outputId": "c1896e96-f382-4abf-c92a-1e86b2b85b9d"
      },
      "execution_count": 8,
      "outputs": [
        {
          "output_type": "stream",
          "name": "stdout",
          "text": [
            "('Google', 'LLC', 'is')\n",
            "('LLC', 'is', 'an')\n",
            "('is', 'an', 'American')\n",
            "('an', 'American', 'multinational')\n",
            "('American', 'multinational', 'technology')\n",
            "('multinational', 'technology', 'company')\n",
            "('technology', 'company', 'focusing')\n",
            "('company', 'focusing', 'on')\n",
            "('focusing', 'on', 'search')\n",
            "('on', 'search', 'engine')\n",
            "('search', 'engine', 'technology')\n",
            "('engine', 'technology', ',')\n",
            "('technology', ',', 'online')\n",
            "(',', 'online', 'advertising')\n",
            "('online', 'advertising', ',')\n",
            "('advertising', ',', 'cloud')\n",
            "(',', 'cloud', 'computing')\n",
            "('cloud', 'computing', ',')\n",
            "('computing', ',', 'computer')\n",
            "(',', 'computer', 'software')\n",
            "('computer', 'software', ',')\n",
            "('software', ',', 'quantum')\n",
            "(',', 'quantum', 'computing')\n",
            "('quantum', 'computing', ',')\n",
            "('computing', ',', 'e-commerce')\n",
            "(',', 'e-commerce', ',')\n",
            "('e-commerce', ',', 'artificial')\n",
            "(',', 'artificial', 'intelligence')\n",
            "('artificial', 'intelligence', ',')\n",
            "('intelligence', ',', 'and')\n",
            "(',', 'and', 'consumer')\n",
            "('and', 'consumer', 'electronics')\n",
            "('consumer', 'electronics', '.')\n"
          ]
        }
      ]
    },
    {
      "cell_type": "code",
      "source": [],
      "metadata": {
        "id": "3jwVRa_G8-Ux"
      },
      "execution_count": null,
      "outputs": []
    }
  ]
}